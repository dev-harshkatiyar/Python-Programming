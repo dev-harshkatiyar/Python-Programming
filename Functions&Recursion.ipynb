{
 "cells": [
  {
   "cell_type": "code",
   "execution_count": 23,
   "id": "6a3bd6d7-ee24-4482-9409-929a8a54ef66",
   "metadata": {},
   "outputs": [
    {
     "name": "stdout",
     "output_type": "stream",
     "text": [
      "8\n",
      "11\n",
      "33\n",
      "8\n"
     ]
    },
    {
     "data": {
      "text/plain": [
       "8"
      ]
     },
     "execution_count": 23,
     "metadata": {},
     "output_type": "execute_result"
    }
   ],
   "source": [
    "def sum(a,b):\n",
    "    sum=a+b\n",
    "    print(sum)\n",
    "    return sum\n",
    "    \n",
    "sum(2,6) \n",
    "sum(4,7) \n",
    "sum(27,6) \n",
    "sum(2,6) "
   ]
  },
  {
   "cell_type": "code",
   "execution_count": 26,
   "id": "4d4eb099-8d98-43c4-8baa-bc2bb0eea49b",
   "metadata": {},
   "outputs": [
    {
     "name": "stdout",
     "output_type": "stream",
     "text": [
      "354717\n"
     ]
    }
   ],
   "source": [
    "def sum(a,b):\n",
    "    return a+b    \n",
    "ans=sum(107383,247334)\n",
    "print(ans)"
   ]
  },
  {
   "cell_type": "code",
   "execution_count": 30,
   "id": "57cdacf5-06e9-478b-9cab-20a8c8ddba4c",
   "metadata": {},
   "outputs": [
    {
     "name": "stdout",
     "output_type": "stream",
     "text": [
      "hello\n"
     ]
    }
   ],
   "source": [
    "def printhello():\n",
    "     print(\"hello\")\n",
    "printhello() "
   ]
  },
  {
   "cell_type": "code",
   "execution_count": 41,
   "id": "85b0e0e5-46f8-4929-9330-adbc33a3a7c7",
   "metadata": {},
   "outputs": [
    {
     "name": "stdout",
     "output_type": "stream",
     "text": [
      "8.0\n"
     ]
    },
    {
     "data": {
      "text/plain": [
       "8.0"
      ]
     },
     "execution_count": 41,
     "metadata": {},
     "output_type": "execute_result"
    }
   ],
   "source": [
    "def avg(a,b,c):\n",
    "    avg= a+b+c/3\n",
    "    print(avg)\n",
    "    return avg\n",
    "avg(2,4,6)    "
   ]
  },
  {
   "cell_type": "code",
   "execution_count": 59,
   "id": "8c567100-cc08-4978-a99e-34d579839b98",
   "metadata": {},
   "outputs": [
    {
     "name": "stdout",
     "output_type": "stream",
     "text": [
      "hello $harsh\n"
     ]
    }
   ],
   "source": [
    "print(\"hello\",end=\" $\")\n",
    "print(\"harsh\")\n"
   ]
  },
  {
   "cell_type": "code",
   "execution_count": 73,
   "id": "daaa2a95-1e1f-461e-8f17-0cb2ffe854dd",
   "metadata": {},
   "outputs": [
    {
     "name": "stdout",
     "output_type": "stream",
     "text": [
      "2\n"
     ]
    },
    {
     "data": {
      "text/plain": [
       "2"
      ]
     },
     "execution_count": 73,
     "metadata": {},
     "output_type": "execute_result"
    }
   ],
   "source": [
    "def mul(a,b=2):\n",
    "    print(a*b)\n",
    "    return a*b\n",
    "mul(1)    "
   ]
  },
  {
   "cell_type": "code",
   "execution_count": 80,
   "id": "b859846f-d632-45bb-9149-66e655904edb",
   "metadata": {},
   "outputs": [
    {
     "name": "stdout",
     "output_type": "stream",
     "text": [
      "2\n"
     ]
    }
   ],
   "source": [
    "cities=[\"delhi\",\"mumbai\"]\n",
    "def cities_len(list):\n",
    "    print(len(list))\n",
    "\n",
    "print(len(cities))\n",
    "    "
   ]
  },
  {
   "cell_type": "code",
   "execution_count": 6,
   "id": "c215c4cd-ca4e-4efa-8023-d57cfc159f51",
   "metadata": {},
   "outputs": [
    {
     "name": "stdout",
     "output_type": "stream",
     "text": [
      "ironman batman superman "
     ]
    }
   ],
   "source": [
    "heros = [\"ironman\", \"batman\", \"superman\"]\n",
    "def print_list(list):\n",
    "    for item in list:\n",
    "        print(item, end=\" \")\n",
    "\n",
    "print_list(heros)"
   ]
  },
  {
   "cell_type": "code",
   "execution_count": 28,
   "id": "96493570-b950-4b7a-a38c-a64238858ad8",
   "metadata": {},
   "outputs": [
    {
     "name": "stdout",
     "output_type": "stream",
     "text": [
      "120\n"
     ]
    }
   ],
   "source": [
    "def fac(n):\n",
    "    fac=1\n",
    "    for i in range(1,n+1):\n",
    "        fac*=i\n",
    "    print(fac)\n",
    "fac(5)\n",
    "    "
   ]
  },
  {
   "cell_type": "code",
   "execution_count": 33,
   "id": "f1009319-8648-48a6-b109-e86e2eb0909f",
   "metadata": {},
   "outputs": [
    {
     "name": "stdout",
     "output_type": "stream",
     "text": [
      "251 USD= 21479.6262 INR\n"
     ]
    }
   ],
   "source": [
    "def converter(usd_value):\n",
    "    inr_val=usd_value*85.5762\n",
    "    print(usd_value,\"USD=\",inr_val,\"INR\")\n",
    "    \n",
    "converter(251)    "
   ]
  },
  {
   "cell_type": "code",
   "execution_count": 37,
   "id": "99d14b9c-2eb6-422a-9c79-628282038b3e",
   "metadata": {},
   "outputs": [
    {
     "name": "stdout",
     "output_type": "stream",
     "text": [
      "odd\n"
     ]
    }
   ],
   "source": [
    "def even_odd(num):\n",
    "    if(num%2==0):\n",
    "        print(\"Even\")\n",
    "    else:\n",
    "        print(\"odd\")\n",
    "\n",
    "even_odd(7)\n"
   ]
  },
  {
   "cell_type": "code",
   "execution_count": 10,
   "id": "407c8bff-ac26-45a8-a4a1-4741f6cd966a",
   "metadata": {},
   "outputs": [
    {
     "name": "stdout",
     "output_type": "stream",
     "text": [
      "5\n",
      "4\n",
      "3\n",
      "2\n",
      "1\n",
      "END\n",
      "END\n",
      "END\n",
      "END\n",
      "END\n"
     ]
    }
   ],
   "source": [
    "#RECURSION\n",
    "def show(n):\n",
    "    if(n==0):\n",
    "        return\n",
    "    print(n)\n",
    "    show(n-1)\n",
    "    print(\"END\")\n",
    "    \n",
    "show(5)  \n",
    "\n",
    "    "
   ]
  },
  {
   "cell_type": "code",
   "execution_count": 17,
   "id": "167409a9-2046-48e5-a959-d436fc6f4191",
   "metadata": {},
   "outputs": [
    {
     "name": "stdout",
     "output_type": "stream",
     "text": [
      "fact is:- 120\n"
     ]
    }
   ],
   "source": [
    "def fact(n):\n",
    "    if(n==0 or n==1):\n",
    "        return 1\n",
    "    else:\n",
    "        return n*fact(n-1)\n",
    "print(\"fact is:-\",fact(5))        "
   ]
  },
  {
   "cell_type": "code",
   "execution_count": 27,
   "id": "94bc1b53-3f07-418a-91fa-cc4bc90ac344",
   "metadata": {},
   "outputs": [
    {
     "data": {
      "text/plain": [
       "80200"
      ]
     },
     "execution_count": 27,
     "metadata": {},
     "output_type": "execute_result"
    }
   ],
   "source": [
    "def sumofno(n):\n",
    "    if(n==0):\n",
    "        return 0\n",
    "    return sumofno(n-1)+n\n",
    "    \n",
    "sumofno(400)    \n",
    "    \n",
    "    \n",
    "    \n",
    "    "
   ]
  },
  {
   "cell_type": "code",
   "execution_count": null,
   "id": "de3b4f35-97b7-4bdd-b59d-278757676f78",
   "metadata": {},
   "outputs": [],
   "source": []
  }
 ],
 "metadata": {
  "kernelspec": {
   "display_name": "Python 3 (ipykernel)",
   "language": "python",
   "name": "python3"
  },
  "language_info": {
   "codemirror_mode": {
    "name": "ipython",
    "version": 3
   },
   "file_extension": ".py",
   "mimetype": "text/x-python",
   "name": "python",
   "nbconvert_exporter": "python",
   "pygments_lexer": "ipython3",
   "version": "3.12.8"
  }
 },
 "nbformat": 4,
 "nbformat_minor": 5
}

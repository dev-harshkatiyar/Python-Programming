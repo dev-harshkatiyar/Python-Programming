{
 "cells": [
  {
   "cell_type": "code",
   "execution_count": 1,
   "metadata": {},
   "outputs": [
    {
     "name": "stdout",
     "output_type": "stream",
     "text": [
      "Path found: 1 -> 3 -> 4 -> 5 -> 6 -> 8 -> 9\n"
     ]
    }
   ],
   "source": [
    "from collections import deque\n",
    "\n",
    "def bidirectional_dfs(start, goal, graph):\n",
    "    if start == goal:\n",
    "        return [start]\n",
    "\n",
    "    forward_stack = [start]\n",
    "    backward_stack = [goal]\n",
    "    \n",
    "    forward_visited = {start: None}\n",
    "    backward_visited = {goal: None}\n",
    "    \n",
    "    while forward_stack and backward_stack:\n",
    "        meeting_point = expand_dfs(forward_stack, forward_visited, backward_visited, graph)\n",
    "        if meeting_point:\n",
    "            return reconstruct_path(meeting_point, forward_visited, backward_visited)\n",
    "        \n",
    "        meeting_point = expand_dfs(backward_stack, backward_visited, forward_visited, graph)\n",
    "        if meeting_point:\n",
    "            return reconstruct_path(meeting_point, forward_visited, backward_visited)\n",
    "    \n",
    "    return \"No path found\"\n",
    "\n",
    "def expand_dfs(stack, visited, other_visited, graph):\n",
    "    if not stack:\n",
    "        return None\n",
    "    \n",
    "    current = stack.pop()\n",
    "    for neighbor in graph.get(current, []):\n",
    "        if neighbor not in visited:\n",
    "            visited[neighbor] = current\n",
    "            stack.append(neighbor)\n",
    "            if neighbor in other_visited:\n",
    "                return neighbor\n",
    "    return None\n",
    "\n",
    "def reconstruct_path(meeting_point, forward_visited, backward_visited):\n",
    "    path = []\n",
    "    \n",
    "    current = meeting_point\n",
    "    while current is not None:\n",
    "        path.append(current)\n",
    "        current = forward_visited[current]\n",
    "    path.reverse()\n",
    "    \n",
    "    current = backward_visited[meeting_point]\n",
    "    while current is not None:\n",
    "        path.append(current)\n",
    "        current = backward_visited[current]\n",
    "    \n",
    "    return path\n",
    "\n",
    "# Define the graph\n",
    "graph = {\n",
    "    1: [2, 3],\n",
    "    2: [1, 4],\n",
    "    3: [1, 4],\n",
    "    4: [2, 3, 5],\n",
    "    5: [4, 6],\n",
    "    6: [5, 7, 8],\n",
    "    7: [6, 9],\n",
    "    8: [6, 9],\n",
    "    9: [7, 8]\n",
    "}\n",
    "\n",
    "start = 1\n",
    "goal = 9\n",
    "\n",
    "# Run the search\n",
    "path = bidirectional_dfs(start, goal, graph)\n",
    "print(\"Path found:\", \" -> \".join(map(str, path)) if path != \"No path found\" else path)\n"
   ]
  }
 ],
 "metadata": {
  "kernelspec": {
   "display_name": "Python 3",
   "language": "python",
   "name": "python3"
  },
  "language_info": {
   "codemirror_mode": {
    "name": "ipython",
    "version": 3
   },
   "file_extension": ".py",
   "mimetype": "text/x-python",
   "name": "python",
   "nbconvert_exporter": "python",
   "pygments_lexer": "ipython3",
   "version": "3.11.9"
  }
 },
 "nbformat": 4,
 "nbformat_minor": 2
}

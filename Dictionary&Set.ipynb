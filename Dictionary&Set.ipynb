{
 "cells": [
  {
   "cell_type": "code",
   "execution_count": 2,
   "id": "0995c197-7dfa-4ac7-a69f-c3f271b31a13",
   "metadata": {},
   "outputs": [
    {
     "name": "stdout",
     "output_type": "stream",
     "text": [
      "{'key': 'value', 'name': 'apnacollege', 'learning': 'coding'}\n"
     ]
    }
   ],
   "source": [
    "dict={\"key\":\"value\",\n",
    "      \"name\":\"apnacollege\",\n",
    "      \"learning\":\"coding\"}\n",
    "print(dict)\n",
    "    "
   ]
  },
  {
   "cell_type": "code",
   "execution_count": 14,
   "id": "8f7a7e1f-4ce2-43fa-bd16-46bc0cd416f7",
   "metadata": {},
   "outputs": [
    {
     "name": "stdout",
     "output_type": "stream",
     "text": [
      "{'name': 'Harsh', 'age': 21, 'college name': 'kiit university'}\n",
      "Harsh\n",
      "kiit university\n",
      "21\n",
      "{'name': 'Harsh', 'age': 21, 'college name': 'kiit university', 'roll no': 22052901}\n"
     ]
    }
   ],
   "source": [
    "info={\"name\":\"Harsh\",\"age\":21,\"college name\":\"kiit university\",\n",
    "}\n",
    "print(info)\n",
    "print(info[\"name\"])\n",
    "print(info[\"college name\"])\n",
    "print(info[\"age\"])\n",
    "info[\"roll no\"]=22052901\n",
    "print(info)"
   ]
  },
  {
   "cell_type": "code",
   "execution_count": 46,
   "id": "332e28b1-718f-4466-b44d-488d76588548",
   "metadata": {},
   "outputs": [
    {
     "name": "stdout",
     "output_type": "stream",
     "text": [
      "{'name': 'Harsh', 'subjects': {'phy': 77, 'maths': 56, 'chem': 89}}\n",
      "{'phy': 77, 'maths': 56, 'chem': 89}\n",
      "89\n",
      "('name', 'subjects')\n",
      "2\n",
      "dict_values(['Harsh', {'phy': 77, 'maths': 56, 'chem': 89}])\n",
      "[('name', 'Harsh'), ('subjects', {'phy': 77, 'maths': 56, 'chem': 89})]\n",
      "Harsh\n",
      "{'name': 'Harsh', 'subjects': {'phy': 77, 'maths': 56, 'chem': 89}, 'city': 'Delhi'}\n"
     ]
    }
   ],
   "source": [
    "student={\n",
    "    \"name\":\"Harsh\",\n",
    "    \"subjects\": {\n",
    "        \"phy\":77,\n",
    "        \"maths\":56,\n",
    "        \"chem\":89\n",
    "}   \n",
    "}\n",
    "print(student)\n",
    "print(student[\"subjects\"])\n",
    "print(student[\"subjects\"][\"chem\"])\n",
    "\n",
    "##Dictionary methods\n",
    "print(tuple(student.keys()))\n",
    "print(len(tuple(student.keys())))\n",
    "print(student.values())\n",
    "print(list(student.items()))\n",
    "print(student.get(\"name\"))\n",
    "student.update({\"city\":\"Delhi\"})\n",
    "print(student)\n"
   ]
  },
  {
   "cell_type": "code",
   "execution_count": 30,
   "id": "5effb633-89f3-4551-ac27-6f0c326f9785",
   "metadata": {},
   "outputs": [
    {
     "name": "stdout",
     "output_type": "stream",
     "text": [
      "{1, 2, 3, 4, 5}\n",
      "<class 'set'>\n",
      "5\n",
      "{2, 3, 4, 5, 6}\n"
     ]
    }
   ],
   "source": [
    "#Set\n",
    "collection={1,2,3,4,5}\n",
    "print(collection)\n",
    "print(type(collection))\n",
    "print(len(collection))\n",
    "collection.add(6)\n",
    "collection.add(9)\n",
    "collection.remove(9)\n",
    "collection.pop()\n",
    "print(collection)\n"
   ]
  },
  {
   "cell_type": "code",
   "execution_count": 37,
   "id": "119d2412-fede-4d2b-842b-bf3bea83330d",
   "metadata": {},
   "outputs": [
    {
     "name": "stdout",
     "output_type": "stream",
     "text": [
      "1\n"
     ]
    }
   ],
   "source": [
    "info={\"hello\",\"world\",\"python\"}\n",
    "info={1,2,3}\n",
    "print(info.pop())"
   ]
  },
  {
   "cell_type": "code",
   "execution_count": 40,
   "id": "704f98e7-9fac-41af-8313-2443c6dae713",
   "metadata": {},
   "outputs": [
    {
     "name": "stdout",
     "output_type": "stream",
     "text": [
      "{'Kiit', 'world', 'hello', 'python', 'University', 'Hello'}\n",
      "set()\n"
     ]
    }
   ],
   "source": [
    "info={\"hello\",\"world\",\"python\"}\n",
    "data={\"Kiit\",\"University\",\"Hello\"}\n",
    "print(info.union(data))\n",
    "print(info.intersection(data))"
   ]
  },
  {
   "cell_type": "code",
   "execution_count": 43,
   "id": "76fee8c7-6f25-465c-a736-72fe37d17129",
   "metadata": {},
   "outputs": [
    {
     "name": "stdout",
     "output_type": "stream",
     "text": [
      "{'cat': 'a small animal', 'table': ['a piece of furniture', 'list of facts & figures']}\n"
     ]
    }
   ],
   "source": [
    "#practice ques\n",
    "dict={\n",
    "    \"cat\":\"a small animal\",\n",
    "    \"table\":[\"a piece of furniture\",\"list of facts & figures\"]\n",
    "}\n",
    "print(dict)"
   ]
  },
  {
   "cell_type": "code",
   "execution_count": 50,
   "id": "82c16a44-6c2a-406c-9b76-e422e33a5eb6",
   "metadata": {},
   "outputs": [
    {
     "name": "stdin",
     "output_type": "stream",
     "text": [
      "Enter phy marks 87\n",
      "Enter chem marks 87\n",
      "Enter bio marks 99\n"
     ]
    },
    {
     "name": "stdout",
     "output_type": "stream",
     "text": [
      "{'phy': 87, 'chem': 87, 'bio': 99}\n"
     ]
    }
   ],
   "source": [
    "marks={}\n",
    "\n",
    "x=int(input(\"Enter phy marks\"))\n",
    "marks.update({\"phy\":x})\n",
    "\n",
    "x=int(input(\"Enter chem marks\"))\n",
    "marks.update({\"chem\":x})\n",
    "\n",
    "x=int(input(\"Enter bio marks\"))\n",
    "marks.update({\"bio\":x})\n",
    "\n",
    "print(marks)\n",
    "         \n",
    "          \n",
    "          "
   ]
  },
  {
   "cell_type": "code",
   "execution_count": null,
   "id": "da3fcc42-c441-4950-91cb-ac823f3af886",
   "metadata": {},
   "outputs": [],
   "source": []
  }
 ],
 "metadata": {
  "kernelspec": {
   "display_name": "Python 3 (ipykernel)",
   "language": "python",
   "name": "python3"
  },
  "language_info": {
   "codemirror_mode": {
    "name": "ipython",
    "version": 3
   },
   "file_extension": ".py",
   "mimetype": "text/x-python",
   "name": "python",
   "nbconvert_exporter": "python",
   "pygments_lexer": "ipython3",
   "version": "3.13.1"
  }
 },
 "nbformat": 4,
 "nbformat_minor": 5
}

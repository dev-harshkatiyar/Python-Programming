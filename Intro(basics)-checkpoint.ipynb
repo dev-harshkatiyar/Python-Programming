{
 "cells": [
  {
   "cell_type": "code",
   "execution_count": 1,
   "id": "c4b0f9b6-c1c4-4e27-8abd-595e5e608c6c",
   "metadata": {},
   "outputs": [
    {
     "name": "stdout",
     "output_type": "stream",
     "text": [
      "hello harsh welcome to python language\n"
     ]
    }
   ],
   "source": [
    "print(\"hello harsh welcome to python language\")"
   ]
  },
  {
   "cell_type": "code",
   "execution_count": 2,
   "id": "7178671b-82a9-4762-b922-eb0981a5d250",
   "metadata": {},
   "outputs": [
    {
     "name": "stdout",
     "output_type": "stream",
     "text": [
      "my name is harsh my age is 21\n"
     ]
    }
   ],
   "source": [
    "print(\"my name is harsh\",\"my age is 21\")"
   ]
  },
  {
   "cell_type": "code",
   "execution_count": 3,
   "id": "83b52064-8d9e-4854-b4f0-4e378e3e99c5",
   "metadata": {},
   "outputs": [
    {
     "name": "stdout",
     "output_type": "stream",
     "text": [
      "my name is harsh\n",
      "my age is 21\n"
     ]
    }
   ],
   "source": [
    "print(\"my name is harsh\")\n",
    "print(\"my age is 21\")"
   ]
  },
  {
   "cell_type": "code",
   "execution_count": 4,
   "id": "593c0af2-ee78-4900-9440-2b69272c3a11",
   "metadata": {},
   "outputs": [
    {
     "name": "stdout",
     "output_type": "stream",
     "text": [
      "23\n"
     ]
    }
   ],
   "source": [
    "print(23)"
   ]
  },
  {
   "cell_type": "code",
   "execution_count": 5,
   "id": "82fe1c05-bc94-4c38-9737-7ad3f870ce19",
   "metadata": {},
   "outputs": [
    {
     "name": "stdout",
     "output_type": "stream",
     "text": [
      "23\n"
     ]
    }
   ],
   "source": [
    "print(\"23\")"
   ]
  },
  {
   "cell_type": "code",
   "execution_count": 6,
   "id": "a5832c12-e1ae-4d72-b433-186a6aadd6eb",
   "metadata": {},
   "outputs": [
    {
     "name": "stdout",
     "output_type": "stream",
     "text": [
      "1\n"
     ]
    }
   ],
   "source": [
    "print(2901%4)"
   ]
  },
  {
   "cell_type": "code",
   "execution_count": 16,
   "id": "d67808a7-13fc-440b-b806-78e26e1055ef",
   "metadata": {},
   "outputs": [
    {
     "name": "stdout",
     "output_type": "stream",
     "text": [
      "My name is : Harsh\n",
      "My rollno is : 22052901\n",
      "My age is: 21\n"
     ]
    }
   ],
   "source": [
    "name=\"Harsh\"\n",
    "rollno=22052901\n",
    "age=21\n",
    "print(\"My name is :\",name)\n",
    "print(\"My rollno is :\",rollno)\n",
    "print(\"My age is:\",age)"
   ]
  },
  {
   "cell_type": "code",
   "execution_count": 17,
   "id": "297f126b-35ef-47e2-9247-692b3ffcd79a",
   "metadata": {},
   "outputs": [
    {
     "name": "stdout",
     "output_type": "stream",
     "text": [
      "<class 'str'>\n",
      "<class 'int'>\n",
      "<class 'int'>\n"
     ]
    }
   ],
   "source": [
    "name=\"Harsh\"\n",
    "rollno=22052901\n",
    "age=21\n",
    "print(type(name))\n",
    "print(type(rollno))\n",
    "print(type(age))"
   ]
  },
  {
   "cell_type": "code",
   "execution_count": 18,
   "id": "5378b448-3033-4884-b8c5-8cef6d620439",
   "metadata": {},
   "outputs": [
    {
     "name": "stdout",
     "output_type": "stream",
     "text": [
      "hello\n"
     ]
    }
   ],
   "source": [
    "print('hello')"
   ]
  },
  {
   "cell_type": "code",
   "execution_count": 21,
   "id": "2ac535ee-196f-43c1-aaf7-a523d3a1715f",
   "metadata": {},
   "outputs": [
    {
     "name": "stdout",
     "output_type": "stream",
     "text": [
      "<class 'bool'>\n",
      "<class 'NoneType'>\n"
     ]
    }
   ],
   "source": [
    "age=21\n",
    "old=False\n",
    "a=None\n",
    "print(type(old))\n",
    "print(type(a))"
   ]
  },
  {
   "cell_type": "code",
   "execution_count": 64,
   "id": "9437d27f-4296-454d-993f-f5f5289a8e8e",
   "metadata": {},
   "outputs": [
    {
     "name": "stdout",
     "output_type": "stream",
     "text": [
      "6\n",
      "2\n",
      "8\n",
      "2.0\n",
      "0\n",
      "16\n"
     ]
    }
   ],
   "source": [
    "#arithmetic operators\n",
    "a=4\n",
    "b=2\n",
    "print(a+b)\n",
    "print(a-b)\n",
    "print(a*b)\n",
    "print(a/b)\n",
    "print(a%b)\n",
    "print(a**b)"
   ]
  },
  {
   "cell_type": "code",
   "execution_count": 44,
   "id": "9dc96a6f-ae09-4eaa-b0b4-9246e862d8fa",
   "metadata": {},
   "outputs": [
    {
     "name": "stdout",
     "output_type": "stream",
     "text": [
      "False\n",
      "True\n",
      "True\n",
      "True\n",
      "False\n",
      "False\n"
     ]
    }
   ],
   "source": [
    "#relational operators\n",
    "#o/p:- T/F\n",
    "a=50\n",
    "b=20\n",
    "print(a==b)\n",
    "print(a!=b)\n",
    "print(a>=b)\n",
    "print(a>b)\n",
    "print(a<=b)\n",
    "print(a<b)"
   ]
  },
  {
   "cell_type": "code",
   "execution_count": 48,
   "id": "38d522ff-2b47-48ff-8fac-2e1b565fa5f2",
   "metadata": {},
   "outputs": [
    {
     "name": "stdout",
     "output_type": "stream",
     "text": [
      "40\n"
     ]
    }
   ],
   "source": [
    "#assignment operator\n",
    "num=20\n",
    "num+=20\n",
    "print(num)"
   ]
  },
  {
   "cell_type": "code",
   "execution_count": 52,
   "id": "e7838649-6c84-4df3-b454-767eae441905",
   "metadata": {},
   "outputs": [
    {
     "name": "stdout",
     "output_type": "stream",
     "text": [
      "False\n",
      "True\n",
      "AND False\n",
      "OR True\n"
     ]
    }
   ],
   "source": [
    "#logical operator\n",
    "#not return the opposite of our o/p\n",
    "print(not True)\n",
    "print(not False)\n",
    "val1=True\n",
    "val2=False\n",
    "print(\"AND\",val1 and val2)\n",
    "print(\"OR\",val1 or val2)"
   ]
  },
  {
   "cell_type": "code",
   "execution_count": 55,
   "id": "7e1c145f-9c19-4abd-b9ab-77def7607a3e",
   "metadata": {},
   "outputs": [
    {
     "name": "stdout",
     "output_type": "stream",
     "text": [
      "6.25\n"
     ]
    }
   ],
   "source": [
    "#type conversion\n",
    "a=2\n",
    "b=4.25\n",
    "sum=a+b\n",
    "print(sum)"
   ]
  },
  {
   "cell_type": "code",
   "execution_count": 86,
   "id": "b8870ed1-d35d-4097-bf48-e0665a1f21ec",
   "metadata": {},
   "outputs": [
    {
     "name": "stdout",
     "output_type": "stream",
     "text": [
      "<class 'float'> 3.66\n"
     ]
    }
   ],
   "source": [
    "#type casting\n",
    "a=1.66\n",
    "b=float(\"2\")\n",
    "print(type(a+b),a+b)\n"
   ]
  },
  {
   "cell_type": "code",
   "execution_count": 75,
   "id": "4e9dbbef-6644-4170-bbf8-a9feb0cba383",
   "metadata": {},
   "outputs": [
    {
     "name": "stdin",
     "output_type": "stream",
     "text": [
      "enter your name Harsh\n",
      "enter your age 21\n"
     ]
    },
    {
     "name": "stdout",
     "output_type": "stream",
     "text": [
      "welcome Harsh\n",
      "<class 'str'> Harsh\n"
     ]
    }
   ],
   "source": [
    "#user input\n",
    "name=input(\"enter your name\")\n",
    "age=input(\"enter your age\")\n",
    "print(\"welcome\",name)\n",
    "print(type(name),name)"
   ]
  },
  {
   "cell_type": "code",
   "execution_count": 85,
   "id": "a7c6f9d4-b872-4855-9280-da67968d8d52",
   "metadata": {},
   "outputs": [
    {
     "name": "stdin",
     "output_type": "stream",
     "text": [
      "enter some value 2\n"
     ]
    },
    {
     "name": "stdout",
     "output_type": "stream",
     "text": [
      "<class 'float'> 2.0\n"
     ]
    }
   ],
   "source": [
    "val=float(input(\"enter some value\"))\n",
    "print(type(val),val)"
   ]
  },
  {
   "cell_type": "code",
   "execution_count": 92,
   "id": "7008ca88-3dbc-42c0-9642-4346f3f255eb",
   "metadata": {},
   "outputs": [
    {
     "name": "stdin",
     "output_type": "stream",
     "text": [
      "Enter your name: Harsh\n",
      "Enter your age: 21\n",
      "Enter your marks: 88.78\n"
     ]
    },
    {
     "name": "stdout",
     "output_type": "stream",
     "text": [
      "welcome Harsh\n",
      "age 21\n",
      "marks 88.78\n"
     ]
    }
   ],
   "source": [
    "name=input(\"Enter your name:\")\n",
    "age=int(input(\"Enter your age:\"))\n",
    "marks=float(input(\"Enter your marks:\"))\n",
    "\n",
    "print(\"welcome\",name)\n",
    "print(\"age\",age)\n",
    "print(\"marks\",marks)"
   ]
  },
  {
   "cell_type": "code",
   "execution_count": 102,
   "id": "7c4af84e-ee0c-4cbc-94fd-c86b070a77f5",
   "metadata": {},
   "outputs": [
    {
     "name": "stdin",
     "output_type": "stream",
     "text": [
      "Enter square sidee 20\n"
     ]
    },
    {
     "name": "stdout",
     "output_type": "stream",
     "text": [
      "400\n"
     ]
    }
   ],
   "source": [
    "side=int(input(\"Enter square sidee\"))\n",
    "area=side*side\n",
    "print(area)"
   ]
  },
  {
   "cell_type": "code",
   "execution_count": 106,
   "id": "6d6ad53c-a563-48f0-a240-02d7a1501d4b",
   "metadata": {},
   "outputs": [
    {
     "name": "stdin",
     "output_type": "stream",
     "text": [
      "enter 1 no. 20\n",
      "enter 2 no. 10\n"
     ]
    },
    {
     "name": "stdout",
     "output_type": "stream",
     "text": [
      "True\n"
     ]
    }
   ],
   "source": [
    "a=int(input(\"enter 1 no.\"))\n",
    "b=int(input(\"enter 2 no.\"))\n",
    "print(a>=b)"
   ]
  },
  {
   "cell_type": "code",
   "execution_count": null,
   "id": "1d5badc1-cfc5-43b0-abe6-2e3bfcc9a093",
   "metadata": {},
   "outputs": [],
   "source": []
  }
 ],
 "metadata": {
  "kernelspec": {
   "display_name": "Python 3 (ipykernel)",
   "language": "python",
   "name": "python3"
  },
  "language_info": {
   "codemirror_mode": {
    "name": "ipython",
    "version": 3
   },
   "file_extension": ".py",
   "mimetype": "text/x-python",
   "name": "python",
   "nbconvert_exporter": "python",
   "pygments_lexer": "ipython3",
   "version": "3.13.1"
  }
 },
 "nbformat": 4,
 "nbformat_minor": 5
}

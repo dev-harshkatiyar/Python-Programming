{
 "cells": [
  {
   "cell_type": "code",
   "execution_count": 1,
   "id": "0fc4e483-1acd-4554-8db8-d1e037c097a1",
   "metadata": {},
   "outputs": [
    {
     "name": "stdout",
     "output_type": "stream",
     "text": [
      "This is a string.\n",
      "we are creating it in python\n"
     ]
    }
   ],
   "source": [
    "str1=\"This is a string.\\nwe are creating it in python\"\n",
    "print(str1)"
   ]
  },
  {
   "cell_type": "code",
   "execution_count": 10,
   "id": "1382f241-28f8-42f3-867d-24c1ef34d7ab",
   "metadata": {},
   "outputs": [
    {
     "name": "stdout",
     "output_type": "stream",
     "text": [
      "Harsh katiyar\n"
     ]
    }
   ],
   "source": [
    "#operations in strings \n",
    "#1Concatenation\n",
    "str1=\"Harsh\"\n",
    "str2=\" katiyar\"\n",
    "print(str1+str2)\n"
   ]
  },
  {
   "cell_type": "code",
   "execution_count": 12,
   "id": "97b496a9-df9a-44a1-aaa6-a02efce94b18",
   "metadata": {},
   "outputs": [
    {
     "name": "stdout",
     "output_type": "stream",
     "text": [
      "5\n",
      "8\n",
      "13\n"
     ]
    }
   ],
   "source": [
    "#2length\n",
    "str1=\"Harsh\"\n",
    "print(len(str1))\n",
    "str2=\" katiyar\"\n",
    "print(len(str2))\n",
    "str3=str1+str2\n",
    "print(len(str3))"
   ]
  },
  {
   "cell_type": "code",
   "execution_count": 14,
   "id": "8ecac499-5623-4499-a95a-666c5a4b5dc2",
   "metadata": {},
   "outputs": [
    {
     "name": "stdout",
     "output_type": "stream",
     "text": [
      "l\n"
     ]
    }
   ],
   "source": [
    "#indexing\n",
    "str=\"apna college\"\n",
    "print(str[8])"
   ]
  },
  {
   "cell_type": "code",
   "execution_count": 20,
   "id": "33fb01a2-7a46-4628-9f93-ff2ae682f4b7",
   "metadata": {},
   "outputs": [
    {
     "name": "stdout",
     "output_type": "stream",
     "text": [
      "hell\n",
      "hello world\n"
     ]
    }
   ],
   "source": [
    "#slicing\n",
    "str=\"hello world\"\n",
    "print(str[0:4])\n",
    "print(str[0:])"
   ]
  },
  {
   "cell_type": "code",
   "execution_count": 28,
   "id": "9913b0b9-47ea-4ab7-8441-1258ce0bffd7",
   "metadata": {},
   "outputs": [
    {
     "name": "stdout",
     "output_type": "stream",
     "text": [
      "Apple\n"
     ]
    }
   ],
   "source": [
    "str=\"Apple\"\n",
    "print(str[-5:])"
   ]
  },
  {
   "cell_type": "code",
   "execution_count": 45,
   "id": "7cea1020-f364-4332-b1ba-6b248f1d4371",
   "metadata": {},
   "outputs": [
    {
     "name": "stdout",
     "output_type": "stream",
     "text": [
      "True\n",
      "I am a good coder.\n",
      "i am a bad coder.\n",
      "12\n",
      "1\n"
     ]
    }
   ],
   "source": [
    "#String Functions\n",
    "str=\"i am a good coder.\"\n",
    "print(str.endswith(\"der.\"))\n",
    "print(str.capitalize())\n",
    "print(str.replace(\"good\",\"bad\"))\n",
    "print(str.find(\"coder\"))\n",
    "print(str.count(\"coder\"))"
   ]
  },
  {
   "cell_type": "code",
   "execution_count": 46,
   "id": "217d24bc-6dc9-4061-ad45-e925a7e7c7f1",
   "metadata": {},
   "outputs": [
    {
     "name": "stdin",
     "output_type": "stream",
     "text": [
      "Enter the name Harsh\n"
     ]
    },
    {
     "name": "stdout",
     "output_type": "stream",
     "text": [
      "5\n"
     ]
    }
   ],
   "source": [
    "name=input(\"Enter the name\")\n",
    "print(len(name))"
   ]
  },
  {
   "cell_type": "code",
   "execution_count": 49,
   "id": "5d95f2b4-3612-4e5b-874b-1302c975a335",
   "metadata": {},
   "outputs": [
    {
     "name": "stdout",
     "output_type": "stream",
     "text": [
      "2\n"
     ]
    }
   ],
   "source": [
    "str=\"Hi $ i am a $ symbol \"\n",
    "print(str.count(\"$\"))"
   ]
  },
  {
   "cell_type": "code",
   "execution_count": 61,
   "id": "7af1e105-c02f-4013-bc31-36254f169fce",
   "metadata": {},
   "outputs": [
    {
     "name": "stdout",
     "output_type": "stream",
     "text": [
      "go\n",
      "end of code\n"
     ]
    }
   ],
   "source": [
    "#CONDITIONALS STATEMENTS\n",
    "light=\"green\"\n",
    "if(light==\"red\"):\n",
    "    print(\"stop\")\n",
    "elif(light==\"green\"):\n",
    "    print(\"go\")\n",
    "elif(light==\"yellow\"):\n",
    "    print(\"look\")\n",
    "else:\n",
    "    print(\"no light is there\")\n",
    "print(\"end of code\")\n"
   ]
  },
  {
   "cell_type": "code",
   "execution_count": 70,
   "id": "47a72e50-17b4-439a-ab97-78e6334d52a9",
   "metadata": {},
   "outputs": [
    {
     "name": "stdout",
     "output_type": "stream",
     "text": [
      "Grade of student is:  c\n"
     ]
    }
   ],
   "source": [
    "marks=74\n",
    "if(marks>=90):\n",
    "    Grade= \"A\"\n",
    "elif(marks>=80 and marks<90):\n",
    "    Grade=\"B\"\n",
    "elif(marks>=70 and marks<80):\n",
    "    Grade=\"c\"\n",
    "else:\n",
    "    Grade=\"D\"\n",
    "    \n",
    "print(\"Grade of student is: \",Grade)    \n",
    "        "
   ]
  },
  {
   "cell_type": "code",
   "execution_count": 76,
   "id": "d1004a76-df7a-4a8b-b578-6e268e07fc45",
   "metadata": {},
   "outputs": [
    {
     "name": "stdin",
     "output_type": "stream",
     "text": [
      "Enter the no. 9\n"
     ]
    },
    {
     "name": "stdout",
     "output_type": "stream",
     "text": [
      "num is odd\n"
     ]
    }
   ],
   "source": [
    "num=int(input(\"Enter the no.\"))\n",
    "if(num%2==0):\n",
    "    print(\"num is even\")\n",
    "else:\n",
    "    print(\"num is odd\")\n"
   ]
  },
  {
   "cell_type": "code",
   "execution_count": 79,
   "id": "da66c845-ac72-4ab7-aa26-119f92525ced",
   "metadata": {},
   "outputs": [
    {
     "name": "stdin",
     "output_type": "stream",
     "text": [
      "Enter the no.1 8\n",
      "Enter the no.2 8\n",
      "Enter the no.3 9\n"
     ]
    },
    {
     "name": "stdout",
     "output_type": "stream",
     "text": [
      "c is greatest 9\n"
     ]
    }
   ],
   "source": [
    "a=int(input(\"Enter the no.1\"))\n",
    "b=int(input(\"Enter the no.2\"))\n",
    "c=int(input(\"Enter the no.3\"))\n",
    "if(a>=b and a>=c):\n",
    "    print(\"a is greatest\",a)\n",
    "elif(b>=c):\n",
    "    print(\"b is greatest\",b)\n",
    "else:\n",
    "    print(\"c is greatest\",c)"
   ]
  },
  {
   "cell_type": "code",
   "execution_count": 81,
   "id": "8f3577e7-e777-413e-904d-8e1b12a49e44",
   "metadata": {},
   "outputs": [
    {
     "name": "stdin",
     "output_type": "stream",
     "text": [
      "Enter the no. 14\n"
     ]
    },
    {
     "name": "stdout",
     "output_type": "stream",
     "text": [
      "yes\n"
     ]
    }
   ],
   "source": [
    "x=int(input(\"Enter the no.\"))\n",
    "if(x%7==0):\n",
    "    print(\"yes\")\n",
    "else:   \n",
    "    print(\"no\")"
   ]
  },
  {
   "cell_type": "code",
   "execution_count": null,
   "id": "bc21b337-96da-4688-a386-5b19108b335c",
   "metadata": {},
   "outputs": [],
   "source": []
  }
 ],
 "metadata": {
  "kernelspec": {
   "display_name": "Python 3 (ipykernel)",
   "language": "python",
   "name": "python3"
  },
  "language_info": {
   "codemirror_mode": {
    "name": "ipython",
    "version": 3
   },
   "file_extension": ".py",
   "mimetype": "text/x-python",
   "name": "python",
   "nbconvert_exporter": "python",
   "pygments_lexer": "ipython3",
   "version": "3.13.1"
  }
 },
 "nbformat": 4,
 "nbformat_minor": 5
}

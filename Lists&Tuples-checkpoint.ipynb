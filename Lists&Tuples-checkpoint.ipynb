{
 "cells": [
  {
   "cell_type": "code",
   "execution_count": 6,
   "id": "bd0c7cc5-7b74-4f22-ba1b-ec0cea7ca889",
   "metadata": {},
   "outputs": [
    {
     "name": "stdout",
     "output_type": "stream",
     "text": [
      "[23, 4, 5, 66, 34, 5, 3, 424]\n",
      "<class 'list'>\n",
      "8\n",
      "424\n"
     ]
    }
   ],
   "source": [
    "marks=[23,4,5,66,34,5,3,424]\n",
    "print(marks)\n",
    "print(type(marks))\n",
    "print(len(marks))\n",
    "print(marks[7])"
   ]
  },
  {
   "cell_type": "code",
   "execution_count": 27,
   "id": "fcae5d2e-ef61-44bd-ba9c-277266eaccb2",
   "metadata": {},
   "outputs": [
    {
     "name": "stdout",
     "output_type": "stream",
     "text": [
      "karan\n",
      "['arjun', 56, 'kavya', 21]\n"
     ]
    }
   ],
   "source": [
    "student=[\"karan\",56,\"kavya\",21]\n",
    "print(student[0])\n",
    "student[0]=\"arjun\"\n",
    "print(student)"
   ]
  },
  {
   "cell_type": "code",
   "execution_count": 16,
   "id": "1efd8ca5-a8e5-4c49-8110-a0acd15e7471",
   "metadata": {},
   "outputs": [
    {
     "name": "stdout",
     "output_type": "stream",
     "text": [
      "[23, 45, 67, 88, 54, 66]\n",
      "[88, 54]\n"
     ]
    }
   ],
   "source": [
    "#list slicing\n",
    "marks=[23,45,67,88,54,66]\n",
    "print(marks[0:])\n",
    "print(marks[-3:-1])"
   ]
  },
  {
   "cell_type": "code",
   "execution_count": 41,
   "id": "ed815295-f7e0-4a21-91e0-fae0e4aca7fb",
   "metadata": {
    "scrolled": true
   },
   "outputs": [
    {
     "name": "stdout",
     "output_type": "stream",
     "text": [
      "[2, 1, 3, 4]\n",
      "[1, 2, 3, 4]\n",
      "[4, 3, 2, 1]\n",
      "[1, 2, 3, 4]\n",
      "[1, 5, 2, 3, 4]\n",
      "[1, 5, 3, 4]\n",
      "[1, 3, 4]\n"
     ]
    }
   ],
   "source": [
    "#list methods\n",
    "list=[2,1,3]\n",
    "#print(list.append(4))\n",
    "list.append(4)\n",
    "print(list)\n",
    "#print(list.sort())\n",
    "list.sort()\n",
    "print(list)\n",
    "#print(list.sort(reverse=True))\n",
    "list.sort(reverse=True)\n",
    "print(list)\n",
    "#print(list.reverse())\n",
    "list.reverse()\n",
    "print(list)\n",
    "#print(list.insert(1,5))\n",
    "list.insert(1,5)\n",
    "print(list)\n",
    "list.remove(2)\n",
    "print(list)\n",
    "list.pop(1)\n",
    "print(list)"
   ]
  },
  {
   "cell_type": "code",
   "execution_count": 47,
   "id": "3ace6421-c070-4b10-b40c-0dfc10432bde",
   "metadata": {},
   "outputs": [
    {
     "name": "stdout",
     "output_type": "stream",
     "text": [
      "2\n",
      "4\n",
      "6\n",
      "8\n",
      "<class 'tuple'>\n"
     ]
    }
   ],
   "source": [
    "#TUPLES\n",
    "tup=(2,4,6,8,10)\n",
    "print(tup[0])\n",
    "print(tup[1])\n",
    "print(tup[2])\n",
    "print(tup[3])\n",
    "print(type(tup))\n",
    "#tup[0]=45\n"
   ]
  },
  {
   "cell_type": "code",
   "execution_count": 59,
   "id": "2f1cfbf0-e932-4ba5-9f83-cd6d60cfe77c",
   "metadata": {},
   "outputs": [
    {
     "name": "stdout",
     "output_type": "stream",
     "text": [
      "(1, 2, 3, 4, 5, 6)\n",
      "<class 'tuple'>\n",
      "(3, 4, 5)\n"
     ]
    }
   ],
   "source": [
    "tup=(1,2,3,4,5,6)\n",
    "print(tup)\n",
    "print(type(tup))\n",
    "print(tup[2:5])"
   ]
  },
  {
   "cell_type": "code",
   "execution_count": 64,
   "id": "4785368e-4299-416e-9d1b-e82587a9c33d",
   "metadata": {},
   "outputs": [
    {
     "name": "stdout",
     "output_type": "stream",
     "text": [
      "2\n",
      "2\n"
     ]
    }
   ],
   "source": [
    "tup=(2,1,3,1)\n",
    "print(tup.index(3))\n",
    "print(tup.count(1))"
   ]
  },
  {
   "cell_type": "code",
   "execution_count": 68,
   "id": "5c806292-4424-4722-a533-1dceff145025",
   "metadata": {},
   "outputs": [
    {
     "name": "stdin",
     "output_type": "stream",
     "text": [
      "Enter 1 favourite movie: shiddat\n",
      "Enter 2 favourite movie: kgf\n",
      "Enter 3 favourite movie: devara\n"
     ]
    },
    {
     "name": "stdout",
     "output_type": "stream",
     "text": [
      "['shiddat', 'kgf', 'devara']\n"
     ]
    }
   ],
   "source": [
    "#practice ques 1\n",
    "movies=[]\n",
    "mov1=input(\"Enter 1 favourite movie:\")\n",
    "mov2=input(\"Enter 2 favourite movie:\")\n",
    "mov3=input(\"Enter 3 favourite movie:\")\n",
    "movies.append(mov1)\n",
    "movies.append(mov2)\n",
    "movies.append(mov3)\n",
    "print(movies)"
   ]
  },
  {
   "cell_type": "code",
   "execution_count": 77,
   "id": "7febfa37-5893-4021-a12f-f422c0b25e5d",
   "metadata": {},
   "outputs": [
    {
     "name": "stdout",
     "output_type": "stream",
     "text": [
      "not palindrome\n"
     ]
    }
   ],
   "source": [
    "#practice ques 2\n",
    "list=[1,2,3,2,4]\n",
    "list1=list.copy()\n",
    "list1.reverse()\n",
    "if(list1==list):\n",
    "    print(\"palindrome\")\n",
    "else: \n",
    "    print(\"not palindrome\")"
   ]
  },
  {
   "cell_type": "code",
   "execution_count": 81,
   "id": "4133971e-f4f7-4350-8dc7-f86f21b3d807",
   "metadata": {},
   "outputs": [
    {
     "name": "stdout",
     "output_type": "stream",
     "text": [
      "3\n",
      "['A', 'A', 'A', 'B', 'B', 'C', 'D']\n"
     ]
    }
   ],
   "source": [
    "tup=(\"C\",\"D\",\"A\",\"A\",\"B\",\"B\",\"A\")\n",
    "print(tup.count(\"A\"))\n",
    "list=[\"C\",\"D\",\"A\",\"A\",\"B\",\"B\",\"A\"]\n",
    "list.sort()\n",
    "print(list)"
   ]
  },
  {
   "cell_type": "code",
   "execution_count": null,
   "id": "9bdd4675-3eb6-485d-a29d-ddb73d129671",
   "metadata": {},
   "outputs": [],
   "source": []
  }
 ],
 "metadata": {
  "kernelspec": {
   "display_name": "Python 3 (ipykernel)",
   "language": "python",
   "name": "python3"
  },
  "language_info": {
   "codemirror_mode": {
    "name": "ipython",
    "version": 3
   },
   "file_extension": ".py",
   "mimetype": "text/x-python",
   "name": "python",
   "nbconvert_exporter": "python",
   "pygments_lexer": "ipython3",
   "version": "3.13.1"
  }
 },
 "nbformat": 4,
 "nbformat_minor": 5
}

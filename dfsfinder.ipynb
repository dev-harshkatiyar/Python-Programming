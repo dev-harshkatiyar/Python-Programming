{
 "cells": [
  {
   "cell_type": "code",
   "execution_count": 1,
   "metadata": {},
   "outputs": [
    {
     "name": "stdout",
     "output_type": "stream",
     "text": [
      "Shortest Path: [(1, 1), (1, 2), (1, 3), (1, 4), (2, 4), (3, 4)], Distance: 5\n"
     ]
    }
   ],
   "source": [
    "maze = [\n",
    "  [1, 1, 1, 1, 1],\n",
    "  [1, 1, 1, 1, 1],\n",
    "  [1, 1, 1, 0, 1],\n",
    "  [1, 1, 0, 1, 1],\n",
    "  [1, 1, 1, 1, 1]\n",
    "]\n",
    "\n",
    "start = (1, 1)\n",
    "end = (3, 4)\n",
    "\n",
    "def dfs(start, end, maze):\n",
    "    r, c = len(maze), len(maze[0])\n",
    "    visited = [[False for _ in range(c)] for _ in range(r)]\n",
    "    shortest_path = None\n",
    "\n",
    "    # Possible movements: down, up, right, left\n",
    "    directions = [(1, 0), (-1, 0), (0, 1), (0, -1)]\n",
    "\n",
    "    def dfs_helper(x, y, path):\n",
    "        nonlocal shortest_path\n",
    "\n",
    "        # If reached the end, update shortest path if it's the shortest found so far\n",
    "        if (x, y) == end:\n",
    "            if shortest_path is None or len(path) < len(shortest_path):\n",
    "                shortest_path = path[:]\n",
    "            return\n",
    "\n",
    "        # Mark current cell as visited\n",
    "        visited[x][y] = True\n",
    "\n",
    "        # Explore all possible moves\n",
    "        for dx, dy in directions:\n",
    "            nx, ny = x + dx, y + dy\n",
    "            if 0 <= nx < r and 0 <= ny < c and not visited[nx][ny] and maze[nx][ny] == 1:\n",
    "                dfs_helper(nx, ny, path + [(nx, ny)])\n",
    "\n",
    "        # Unmark current cell (Backtracking)\n",
    "        visited[x][y] = False\n",
    "\n",
    "    # Start DFS\n",
    "    dfs_helper(start[0], start[1], [start])\n",
    "\n",
    "    return f\"Shortest Path: {shortest_path}, Distance: {len(shortest_path) - 1}\" if shortest_path else \"No path found\"\n",
    "\n",
    "# Run DFS function\n",
    "print(dfs(start, end, maze))\n"
   ]
  }
 ],
 "metadata": {
  "kernelspec": {
   "display_name": "Python 3",
   "language": "python",
   "name": "python3"
  },
  "language_info": {
   "codemirror_mode": {
    "name": "ipython",
    "version": 3
   },
   "file_extension": ".py",
   "mimetype": "text/x-python",
   "name": "python",
   "nbconvert_exporter": "python",
   "pygments_lexer": "ipython3",
   "version": "3.11.9"
  }
 },
 "nbformat": 4,
 "nbformat_minor": 2
}

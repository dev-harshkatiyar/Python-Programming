{
 "cells": [
  {
   "cell_type": "code",
   "execution_count": null,
   "id": "a0d6b9ca-f48e-4e57-bba0-b7cc5a04cc76",
   "metadata": {},
   "outputs": [],
   "source": []
  },
  {
   "cell_type": "code",
   "execution_count": 1,
   "id": "34e0fb13-badc-4d14-afed-0d9d009f770b",
   "metadata": {},
   "outputs": [
    {
     "name": "stdout",
     "output_type": "stream",
     "text": [
      "Treasure found at: (4, 4)\n"
     ]
    },
    {
     "data": {
      "text/plain": [
       "True"
      ]
     },
     "execution_count": 1,
     "metadata": {},
     "output_type": "execute_result"
    }
   ],
   "source": [
    "import heapq\n",
    "\n",
    "def manhattan_distance(a, b):\n",
    "    return abs(a[0] - b[0]) + abs(a[1] - b[1])\n",
    "\n",
    "def best_first_search(grid, start, treasure):\n",
    "    rows, cols = len(grid), len(grid[0])\n",
    "    visited = set()\n",
    "    pq = []\n",
    "    heapq.heappush(pq, (manhattan_distance(start, treasure), start))\n",
    "\n",
    "    while pq:\n",
    "        _, current = heapq.heappop(pq)\n",
    "        \n",
    "        if current in visited:\n",
    "            continue\n",
    "        \n",
    "        visited.add(current)\n",
    "\n",
    "        # Check if treasure is found\n",
    "        if current == treasure:\n",
    "            print(\"Treasure found at:\", current)\n",
    "            return True\n",
    "\n",
    "        # Explore neighbors (Up, Down, Left, Right)\n",
    "        for dr, dc in [(-1, 0), (1, 0), (0, -1), (0, 1)]:\n",
    "            nr, nc = current[0] + dr, current[1] + dc\n",
    "            if 0 <= nr < rows and 0 <= nc < cols and (nr, nc) not in visited and grid[nr][nc] != -1:\n",
    "                heapq.heappush(pq, (manhattan_distance((nr, nc), treasure), (nr, nc)))\n",
    "\n",
    "    print(\"Treasure not found.\")\n",
    "    return False\n",
    "\n",
    "# Example Grid (0 = Open, -1 = Obstacle)\n",
    "grid = [\n",
    "    [0, 0, 0, -1, 0],\n",
    "    [0, -1, 0, -1, 0],\n",
    "    [0, -1, 0, 0, 0],\n",
    "    [0, 0, 0, -1, 0],\n",
    "    [-1, -1, 0, 0, 0]\n",
    "]\n",
    "\n",
    "start = (0, 0)\n",
    "treasure = (4, 4)\n",
    "\n",
    "best_first_search(grid, start, treasure)\n"
   ]
  }
 ],
 "metadata": {
  "kernelspec": {
   "display_name": "Python 3 (ipykernel)",
   "language": "python",
   "name": "python3"
  },
  "language_info": {
   "codemirror_mode": {
    "name": "ipython",
    "version": 3
   },
   "file_extension": ".py",
   "mimetype": "text/x-python",
   "name": "python",
   "nbconvert_exporter": "python",
   "pygments_lexer": "ipython3",
   "version": "3.12.8"
  }
 },
 "nbformat": 4,
 "nbformat_minor": 5
}

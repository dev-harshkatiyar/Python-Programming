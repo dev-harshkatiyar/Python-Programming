{
 "cells": [
  {
   "cell_type": "code",
   "execution_count": 4,
   "id": "d40dad8c-fcad-4c7b-bf82-4ae52d2b30f3",
   "metadata": {},
   "outputs": [
    {
     "name": "stdout",
     "output_type": "stream",
     "text": [
      "AI's Best Move: (0, 0)\n"
     ]
    }
   ],
   "source": [
    "import sys\n",
    "\n",
    "class WaterJugsGame:\n",
    "    def __init__(self, A, B, T):  # Fixed constructor name\n",
    "        self.A = A  # Jug A capacity\n",
    "        self.B = B  # Jug B capacity\n",
    "        self.T = T  # Target volume\n",
    "\n",
    "    def is_goal(self, state):\n",
    "        return state[0] == self.T or state[1] == self.T\n",
    "\n",
    "    def get_possible_moves(self, state):\n",
    "        x, y = state\n",
    "        moves = []\n",
    "\n",
    "        # Fill Jug A\n",
    "        moves.append((self.A, y))\n",
    "        # Fill Jug B\n",
    "        moves.append((x, self.B))\n",
    "        # Empty Jug A\n",
    "        moves.append((0, y))\n",
    "        # Empty Jug B\n",
    "        moves.append((x, 0))\n",
    "        # Pour A -> B\n",
    "        moves.append((max(0, x - (self.B - y)), min(self.B, x + y)))\n",
    "        # Pour B -> A\n",
    "        moves.append((min(self.A, x + y), max(0, y - (self.A - x))))\n",
    "\n",
    "        # Remove duplicate states\n",
    "        return list(set(moves))\n",
    "\n",
    "    def evaluate(self, state, is_ai_turn):\n",
    "        if self.is_goal(state):\n",
    "            return 100 if is_ai_turn else -100  # AI wins: 100, Opponent wins: -100\n",
    "        return -abs(self.T - state[0]) - abs(self.T - state[1])  # Closer to target is better\n",
    "\n",
    "    def minimax(self, state, depth, is_ai_turn):\n",
    "        if depth == 0 or self.is_goal(state):\n",
    "            return self.evaluate(state, is_ai_turn)\n",
    "\n",
    "        best_score = -sys.maxsize if is_ai_turn else sys.maxsize\n",
    "        possible_moves = self.get_possible_moves(state)\n",
    "\n",
    "        for move in possible_moves:\n",
    "            score = self.minimax(move, depth - 1, not is_ai_turn)\n",
    "            if is_ai_turn:\n",
    "                best_score = max(best_score, score)\n",
    "            else:\n",
    "                best_score = min(best_score, score)\n",
    "\n",
    "        return best_score\n",
    "\n",
    "    def find_best_move(self, state, depth=5):\n",
    "        best_move = None\n",
    "        best_score = -sys.maxsize\n",
    "\n",
    "        for move in self.get_possible_moves(state):\n",
    "            score = self.minimax(move, depth, False)  # Opponent's turn next\n",
    "            if score > best_score:\n",
    "                best_score = score\n",
    "                best_move = move\n",
    "\n",
    "        return best_move\n",
    "\n",
    "# Example usage\n",
    "A, B, T = 4, 3, 2  # Jug capacities and target\n",
    "\n",
    "game = WaterJugsGame(A, B, T)\n",
    "initial_state = (0, 0)\n",
    "best_move = game.find_best_move(initial_state)\n",
    "print(f\"AI's Best Move: {best_move}\")\n"
   ]
  },
  {
   "cell_type": "code",
   "execution_count": null,
   "id": "9aa3c540-3e1c-4ce7-8a30-1312692079cb",
   "metadata": {},
   "outputs": [],
   "source": []
  }
 ],
 "metadata": {
  "kernelspec": {
   "display_name": "Python 3 (ipykernel)",
   "language": "python",
   "name": "python3"
  },
  "language_info": {
   "codemirror_mode": {
    "name": "ipython",
    "version": 3
   },
   "file_extension": ".py",
   "mimetype": "text/x-python",
   "name": "python",
   "nbconvert_exporter": "python",
   "pygments_lexer": "ipython3",
   "version": "3.12.8"
  }
 },
 "nbformat": 4,
 "nbformat_minor": 5
}

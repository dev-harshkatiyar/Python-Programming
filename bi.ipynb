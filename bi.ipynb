{
 "cells": [
  {
   "cell_type": "code",
   "execution_count": 1,
   "metadata": {},
   "outputs": [],
   "source": [
    "from collections import deque"
   ]
  },
  {
   "cell_type": "code",
   "execution_count": 2,
   "metadata": {},
   "outputs": [],
   "source": [
    "class Graph:\n",
    "    def __init__(self, vertices):\n",
    "        self.vertices = vertices\n",
    "        self.graph = {i: [] for i in range(vertices)}\n",
    "    # Function to add an edge\n",
    "def add_edge(self, src, dest):\n",
    "    self.graph[src].append(dest)\n",
    "    self.graph[dest].append(src)"
   ]
  },
  {
   "cell_type": "code",
   "execution_count": 3,
   "metadata": {},
   "outputs": [],
   "source": [
    "    # Bidirectional BFS Search\n",
    "def bidirectional_bfs(self, start, goal):\n",
    "        if start == goal:\n",
    "            return [start]\n",
    "\n",
    "        # Queues for BFS\n",
    "        forward_queue = deque([start])\n",
    "        backward_queue = deque([goal])\n",
    "\n",
    "        # Visited dictionaries\n",
    "        forward_visited = {start: None}\n",
    "        backward_visited = {goal: None}\n",
    "\n",
    "        while forward_queue and backward_queue:\n",
    "            # Expand forward search\n",
    "            if forward_queue:\n",
    "                meeting_point = self.expand_layer(forward_queue, forward_visited, backward_visited)\n",
    "                if meeting_point:\n",
    "                    return self.reconstruct_path(meeting_point, forward_visited, backward_visited)\n",
    "\n",
    "            # Expand backward search\n",
    "            if backward_queue:\n",
    "                meeting_point = self.expand_layer(backward_queue, backward_visited, forward_visited)\n",
    "                if meeting_point:\n",
    "                    return self.reconstruct_path(meeting_point, forward_visited, backward_visited)\n",
    "\n",
    "        return None "
   ]
  },
  {
   "cell_type": "code",
   "execution_count": 4,
   "metadata": {},
   "outputs": [],
   "source": [
    "    # Expanding one layer of BFS\n",
    "def expand_layer(self, queue, visited, other_visited):\n",
    "        current_node = queue.popleft()\n",
    "        for neighbor in self.graph[current_node]:\n",
    "            if neighbor not in visited:\n",
    "                visited[neighbor] = current_node\n",
    "                queue.append(neighbor)\n",
    "                if neighbor in other_visited:  # Check if searches meet\n",
    "                    return neighbor\n",
    "        return None"
   ]
  },
  {
   "cell_type": "code",
   "execution_count": 5,
   "metadata": {},
   "outputs": [],
   "source": [
    "    # Reconstruct the path from source to goal\n",
    "def reconstruct_path(self, meeting_point, forward_visited, backward_visited):\n",
    "        path = []\n",
    "\n",
    "        # Construct forward path\n",
    "        current = meeting_point\n",
    "        while current is not None:\n",
    "            path.append(current)\n",
    "            current = forward_visited[current]\n",
    "        path.reverse()\n",
    "\n",
    "        # Construct backward path\n",
    "        current = backward_visited[meeting_point]\n",
    "        while current is not None:\n",
    "            path.append(current)\n",
    "            current = backward_visited[current]\n",
    "\n",
    "        return path"
   ]
  },
  {
   "cell_type": "code",
   "execution_count": 6,
   "metadata": {},
   "outputs": [
    {
     "ename": "AttributeError",
     "evalue": "'Graph' object has no attribute 'add_edge'",
     "output_type": "error",
     "traceback": [
      "\u001b[1;31m---------------------------------------------------------------------------\u001b[0m",
      "\u001b[1;31mAttributeError\u001b[0m                            Traceback (most recent call last)",
      "Cell \u001b[1;32mIn[6], line 5\u001b[0m\n\u001b[0;32m      2\u001b[0m graph \u001b[38;5;241m=\u001b[39m Graph(\u001b[38;5;241m10\u001b[39m)  \u001b[38;5;66;03m# 10 nodes (0 to 9)\u001b[39;00m\n\u001b[0;32m      4\u001b[0m \u001b[38;5;66;03m# Add edges based on the provided graph\u001b[39;00m\n\u001b[1;32m----> 5\u001b[0m \u001b[43mgraph\u001b[49m\u001b[38;5;241;43m.\u001b[39;49m\u001b[43madd_edge\u001b[49m(\u001b[38;5;241m1\u001b[39m, \u001b[38;5;241m2\u001b[39m)\n\u001b[0;32m      6\u001b[0m graph\u001b[38;5;241m.\u001b[39madd_edge(\u001b[38;5;241m1\u001b[39m, \u001b[38;5;241m3\u001b[39m)\n\u001b[0;32m      7\u001b[0m graph\u001b[38;5;241m.\u001b[39madd_edge(\u001b[38;5;241m2\u001b[39m, \u001b[38;5;241m4\u001b[39m)\n",
      "\u001b[1;31mAttributeError\u001b[0m: 'Graph' object has no attribute 'add_edge'"
     ]
    }
   ],
   "source": [
    "# Create the graph with given nodes\n",
    "graph = Graph(10)  # 10 nodes (0 to 9)\n",
    "\n",
    "# Add edges based on the provided graph\n",
    "graph.add_edge(1, 2)\n",
    "graph.add_edge(1, 3)\n",
    "graph.add_edge(2, 4)\n",
    "graph.add_edge(3, 4)\n",
    "graph.add_edge(4, 5)\n",
    "graph.add_edge(5, 6)\n",
    "graph.add_edge(6, 7)\n",
    "graph.add_edge(6, 8)\n",
    "graph.add_edge(7, 9)\n",
    "graph.add_edge(8, 9)\n",
    "\n",
    "# Start and Goal Nodes\n",
    "start = 1\n",
    "goal = 9\n",
    "\n",
    "# Run Bidirectional BFS\n",
    "path = graph.bidirectional_bfs(start, goal)\n",
    "if path:\n",
    "    print(\"Path found:\", \" -> \".join(map(str, path)))\n",
    "else:\n",
    "    print(\"No path found.\")"
   ]
  },
  {
   "cell_type": "code",
   "execution_count": 1,
   "metadata": {},
   "outputs": [
    {
     "name": "stdout",
     "output_type": "stream",
     "text": [
      "Path found: 1 -> 2 -> 4 -> 5 -> 6 -> 7 -> 9\n"
     ]
    }
   ],
   "source": [
    "from collections import deque\n",
    "\n",
    "# Define the graph as an adjacency list\n",
    "graph = {\n",
    "    1: [2, 3],\n",
    "    2: [1, 4],\n",
    "    3: [1, 4],\n",
    "    4: [2, 3, 5],\n",
    "    5: [4, 6],\n",
    "    6: [5, 7, 8],\n",
    "    7: [6, 9],\n",
    "    8: [6, 9],\n",
    "    9: [7, 8]\n",
    "}\n",
    "\n",
    "start = 1\n",
    "goal = 9\n",
    "\n",
    "def bidirectional_bfs(start, goal, graph):\n",
    "    if start == goal:\n",
    "        return [start]\n",
    "\n",
    "    # BFS queues\n",
    "    forward_queue = deque([start])\n",
    "    backward_queue = deque([goal])\n",
    "\n",
    "    # Visited and parent tracking\n",
    "    forward_visited = {start: None}\n",
    "    backward_visited = {goal: None}\n",
    "\n",
    "    while forward_queue and backward_queue:\n",
    "        # Expand forward BFS\n",
    "        meeting_point = expand_layer(forward_queue, forward_visited, backward_visited, graph)\n",
    "        if meeting_point:\n",
    "            return reconstruct_path(meeting_point, forward_visited, backward_visited)\n",
    "\n",
    "        # Expand backward BFS\n",
    "        meeting_point = expand_layer(backward_queue, backward_visited, forward_visited, graph)\n",
    "        if meeting_point:\n",
    "            return reconstruct_path(meeting_point, forward_visited, backward_visited)\n",
    "\n",
    "    return \"No path found\"\n",
    "\n",
    "def expand_layer(queue, visited, other_visited, graph):\n",
    "    current = queue.popleft()\n",
    "    for neighbor in graph[current]:\n",
    "        if neighbor not in visited:\n",
    "            visited[neighbor] = current\n",
    "            queue.append(neighbor)\n",
    "            if neighbor in other_visited:\n",
    "                return neighbor\n",
    "    return None\n",
    "\n",
    "def reconstruct_path(meeting_point, forward_visited, backward_visited):\n",
    "    path = []\n",
    "    \n",
    "    # Build path from start to meeting point\n",
    "    current = meeting_point\n",
    "    while current is not None:\n",
    "        path.append(current)\n",
    "        current = forward_visited[current]\n",
    "    path.reverse()\n",
    "\n",
    "    # Build path from meeting point to goal\n",
    "    current = backward_visited[meeting_point]\n",
    "    while current is not None:\n",
    "        path.append(current)\n",
    "        current = backward_visited[current]\n",
    "\n",
    "    return path\n",
    "\n",
    "# Run the search\n",
    "path = bidirectional_bfs(start, goal, graph)\n",
    "print(\"Path found:\", \" -> \".join(map(str, path)) if path != \"No path found\" else path)\n"
   ]
  }
 ],
 "metadata": {
  "kernelspec": {
   "display_name": "Python 3",
   "language": "python",
   "name": "python3"
  },
  "language_info": {
   "codemirror_mode": {
    "name": "ipython",
    "version": 3
   },
   "file_extension": ".py",
   "mimetype": "text/x-python",
   "name": "python",
   "nbconvert_exporter": "python",
   "pygments_lexer": "ipython3",
   "version": "3.11.9"
  }
 },
 "nbformat": 4,
 "nbformat_minor": 2
}

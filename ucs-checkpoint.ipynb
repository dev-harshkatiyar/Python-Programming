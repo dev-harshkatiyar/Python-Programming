{
 "cells": [
  {
   "cell_type": "code",
   "execution_count": 1,
   "metadata": {},
   "outputs": [
    {
     "name": "stdout",
     "output_type": "stream",
     "text": [
      "Uniform Cost Search Path: ['A', 'B', 'C', 'D'] with cost 4\n",
      "BFS Path (Unweighted assumption): ['A', 'B', 'D']\n"
     ]
    }
   ],
   "source": [
    "import heapq\n",
    "from collections import deque\n",
    "\n",
    "def uniform_cost_search(graph, start, goal):\n",
    "    priority_queue = [(0, start)]  # (cost, node)\n",
    "    visited = {}\n",
    "    path = {}\n",
    "    \n",
    "    while priority_queue:\n",
    "        cost, node = heapq.heappop(priority_queue)\n",
    "        \n",
    "        if node in visited:\n",
    "            continue\n",
    "        \n",
    "        visited[node] = cost\n",
    "        \n",
    "        if node == goal:\n",
    "            break\n",
    "        \n",
    "        for neighbor, weight in graph.get(node, []):\n",
    "            if neighbor not in visited:\n",
    "                heapq.heappush(priority_queue, (cost + weight, neighbor))\n",
    "                path[neighbor] = node\n",
    "    \n",
    "    return reconstruct_path(path, start, goal), visited.get(goal, float('inf'))\n",
    "\n",
    "def reconstruct_path(path, start, goal):\n",
    "    if goal not in path and goal != start:\n",
    "        return None\n",
    "    \n",
    "    node = goal\n",
    "    route = []\n",
    "    while node != start:\n",
    "        route.append(node)\n",
    "        node = path.get(node, start)\n",
    "    route.append(start)\n",
    "    return list(reversed(route))\n",
    "\n",
    "def bfs(graph, start, goal):\n",
    "    queue = deque([start])\n",
    "    visited = {start: None}\n",
    "    \n",
    "    while queue:\n",
    "        node = queue.popleft()\n",
    "        \n",
    "        if node == goal:\n",
    "            break\n",
    "        \n",
    "        for neighbor, _ in graph.get(node, []):\n",
    "            if neighbor not in visited:\n",
    "                queue.append(neighbor)\n",
    "                visited[neighbor] = node\n",
    "    \n",
    "    return reconstruct_path(visited, start, goal)\n",
    "\n",
    "# Updated Weighted Graph\n",
    "graph = {\n",
    "    'A': [('B', 1), ('C', 4)],\n",
    "    'B': [('A', 1), ('C', 2), ('D', 5)],\n",
    "    'C': [('A', 4), ('B', 2), ('D', 1)],\n",
    "    'D': [('B', 5), ('C', 1)]\n",
    "}\n",
    "\n",
    "start, goal = 'A', 'D'\n",
    "ucs_path, ucs_cost = uniform_cost_search(graph, start, goal)\n",
    "bfs_path = bfs(graph, start, goal)\n",
    "\n",
    "print(f\"Uniform Cost Search Path: {ucs_path} with cost {ucs_cost}\")\n",
    "print(f\"BFS Path (Unweighted assumption): {bfs_path}\")\n"
   ]
  }
 ],
 "metadata": {
  "kernelspec": {
   "display_name": "Python 3",
   "language": "python",
   "name": "python3"
  },
  "language_info": {
   "codemirror_mode": {
    "name": "ipython",
    "version": 3
   },
   "file_extension": ".py",
   "mimetype": "text/x-python",
   "name": "python",
   "nbconvert_exporter": "python",
   "pygments_lexer": "ipython3",
   "version": "3.11.9"
  }
 },
 "nbformat": 4,
 "nbformat_minor": 2
}

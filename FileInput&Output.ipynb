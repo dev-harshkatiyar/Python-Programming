{
 "cells": [
  {
   "cell_type": "code",
   "execution_count": 36,
   "id": "c8d3b462-aa3e-48bb-832e-a229efd8fa11",
   "metadata": {},
   "outputs": [
    {
     "name": "stdout",
     "output_type": "stream",
     "text": [
      "hello i am learning pythton \n",
      "and i am new to python please help me to masrter in this course\n",
      "<class 'str'>\n"
     ]
    }
   ],
   "source": [
    "f=open(\"demo.txt\",\"r\")\n",
    "data=f.read()\n",
    "print(data)\n",
    "print(type(data))\n",
    "f.close()"
   ]
  },
  {
   "cell_type": "code",
   "execution_count": 45,
   "id": "564bfba3-cd3d-4fba-9d7f-7f9e5cbe4dee",
   "metadata": {},
   "outputs": [
    {
     "name": "stdout",
     "output_type": "stream",
     "text": [
      "i mastered in python\n",
      "\n",
      "<class 'int'>\n"
     ]
    }
   ],
   "source": [
    "f=open(\"demo.txt\",\"r\")\n",
    "line1=f.readline()\n",
    "print(line1)\n",
    "line2=f.readline()\n",
    "print(line2)\n",
    "print(type(data))\n",
    "f.close()"
   ]
  },
  {
   "cell_type": "code",
   "execution_count": 58,
   "id": "9a87d2da-bed4-4573-8280-7f713eb3a00b",
   "metadata": {},
   "outputs": [],
   "source": [
    "f=open(\"demo.txt \",\"a\")\n",
    "f.write(\"\\n next i will learn reactjs\")\n",
    "f.close()"
   ]
  },
  {
   "cell_type": "code",
   "execution_count": 111,
   "id": "f15e0818-52c9-45d4-b856-527eae348bc9",
   "metadata": {},
   "outputs": [],
   "source": [
    "#this will automatically create a file if file not exist\n",
    "f=open(\"sample.txt \",\"a\") \n",
    "f.close()"
   ]
  },
  {
   "cell_type": "code",
   "execution_count": 92,
   "id": "d57fefb9-2949-4e8b-a520-ad660213c1da",
   "metadata": {},
   "outputs": [
    {
     "name": "stdout",
     "output_type": "stream",
     "text": [
      "e\n"
     ]
    }
   ],
   "source": [
    "#r+ :- overwrite from starting of the file\n",
    "f=open(\"demo.txt \",\"r+\") \n",
    "f.write(\"abc\")\n",
    "print(f.read())\n",
    "f.close()"
   ]
  },
  {
   "cell_type": "code",
   "execution_count": 96,
   "id": "b3c5c00a-de73-4e9c-b9e5-896662b40dfe",
   "metadata": {},
   "outputs": [
    {
     "name": "stdout",
     "output_type": "stream",
     "text": [
      "\n"
     ]
    }
   ],
   "source": [
    "#w+ :- truncate means delete the file\n",
    "f=open(\"demo.txt \",\"w+\") \n",
    "#f.write(\"abced\")\n",
    "print(f.read())\n",
    "f.write(\"abd\")\n",
    "f.close()"
   ]
  },
  {
   "cell_type": "code",
   "execution_count": 97,
   "id": "dbb62816-7bd3-454f-a323-c43ebc3cff80",
   "metadata": {},
   "outputs": [
    {
     "name": "stdout",
     "output_type": "stream",
     "text": [
      "\n"
     ]
    }
   ],
   "source": [
    "#a+ :- truncate means delete the file\n",
    "f=open(\"demo.txt \",\"a+\") \n",
    "#f.write(\"abced\")\n",
    "print(f.read())\n",
    "f.write(\"abd\")\n",
    "f.close()"
   ]
  },
  {
   "cell_type": "code",
   "execution_count": 108,
   "id": "d94311e6-0eb4-4d13-a401-c2caa014a99e",
   "metadata": {},
   "outputs": [
    {
     "name": "stdout",
     "output_type": "stream",
     "text": [
      "new data\n"
     ]
    }
   ],
   "source": [
    "#with syntax\n",
    "with open(\"demo.txt\",\"r\") as f:\n",
    "    data=f.read()\n",
    "    print(data)    "
   ]
  },
  {
   "cell_type": "code",
   "execution_count": 109,
   "id": "7c9d1b01-c48f-4f7c-b3e8-443026633a45",
   "metadata": {},
   "outputs": [],
   "source": [
    "with open(\"demo.txt\",\"w\") as f:\n",
    "    f.write(\"new data\")"
   ]
  },
  {
   "cell_type": "code",
   "execution_count": 114,
   "id": "885ddb2b-873c-4dc7-a588-34ca60a08fbb",
   "metadata": {},
   "outputs": [],
   "source": [
    "#Delete\n",
    "import os\n",
    "os.remove(\"sample.txt\")"
   ]
  },
  {
   "cell_type": "code",
   "execution_count": 118,
   "id": "ba0e10b3-f85e-457c-8376-a5da509e7a8d",
   "metadata": {},
   "outputs": [],
   "source": [
    "#Practice ques 1\n",
    "f=open(\"practice.txt\",\"w\")\n",
    "f.write(\"Hi everyone \\nwe are learning File I/O \\nusing java \\ni like programming in java\")\n",
    "f.close()"
   ]
  },
  {
   "cell_type": "code",
   "execution_count": 119,
   "id": "c1588a55-d564-425c-a9f5-743b7f47014c",
   "metadata": {},
   "outputs": [],
   "source": [
    "f=open(\"practice.txt\",\"a\")\n",
    "f.write(\"Hi everyone \\nwe are learning File I/O \\nusing java \\ni like programming in java\")\n",
    "f.close()"
   ]
  },
  {
   "cell_type": "code",
   "execution_count": 133,
   "id": "682b9795-f18f-4c35-b1b4-1da829cf5fd2",
   "metadata": {},
   "outputs": [
    {
     "name": "stdout",
     "output_type": "stream",
     "text": [
      "Hi everyone \n",
      "we are learning File I/O \n",
      "using Python \n",
      "i like programming in Python\n"
     ]
    }
   ],
   "source": [
    "#Practice ques 2\n",
    "with open(\"practice.txt\",\"r\") as f: #read\n",
    "    data=f.read()\n",
    "\n",
    "new_data=data.replace(\"java\",\"Python\")  #change\n",
    "print(new_data)\n",
    "\n",
    "with open(\"practice.txt\",\"w\") as f:  #overwrite\n",
    "    f.write(new_data)"
   ]
  },
  {
   "cell_type": "code",
   "execution_count": 140,
   "id": "c947d37c-c08d-498a-8c32-9e359c7f1280",
   "metadata": {},
   "outputs": [
    {
     "name": "stdout",
     "output_type": "stream",
     "text": [
      "found\n"
     ]
    }
   ],
   "source": [
    "#Practice ques 3\n",
    "def check_word():\n",
    "    with open(\"practice.txt\",\"r\") as f:\n",
    "        data=f.read()\n",
    "    if(data.find(\"learning\")!=-1):\n",
    "        print(\"found\")\n",
    "    else:\n",
    "        print(\"not found\")\n",
    "check_word()    \n",
    "                 \n",
    "    "
   ]
  },
  {
   "cell_type": "code",
   "execution_count": 144,
   "id": "42752ace-347f-4ccf-933e-6785f27018ae",
   "metadata": {},
   "outputs": [
    {
     "name": "stdout",
     "output_type": "stream",
     "text": [
      "1,2,76,84,90,101\n",
      "\n",
      "<class 'str'>\n"
     ]
    }
   ],
   "source": [
    "with open(\"practice.txt\",\"r\") as f:\n",
    "    data=f.read()\n",
    "    print(data)\n",
    "    print(type(data))"
   ]
  },
  {
   "cell_type": "code",
   "execution_count": null,
   "id": "f5ff62e0-e9e8-4e30-83e1-90625024d54d",
   "metadata": {},
   "outputs": [],
   "source": []
  }
 ],
 "metadata": {
  "kernelspec": {
   "display_name": "Python 3 (ipykernel)",
   "language": "python",
   "name": "python3"
  },
  "language_info": {
   "codemirror_mode": {
    "name": "ipython",
    "version": 3
   },
   "file_extension": ".py",
   "mimetype": "text/x-python",
   "name": "python",
   "nbconvert_exporter": "python",
   "pygments_lexer": "ipython3",
   "version": "3.13.1"
  }
 },
 "nbformat": 4,
 "nbformat_minor": 5
}

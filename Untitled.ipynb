{
 "cells": [
  {
   "cell_type": "code",
   "execution_count": 1,
   "id": "01bc7d52-4081-43a4-8a31-f788b4275c81",
   "metadata": {},
   "outputs": [
    {
     "name": "stdout",
     "output_type": "stream",
     "text": [
      "hello\n"
     ]
    }
   ],
   "source": [
    "print(\"hello\")"
   ]
  },
  {
   "cell_type": "code",
   "execution_count": 2,
   "id": "d9623a37-6d9e-428f-8181-2cfa67b52b5e",
   "metadata": {},
   "outputs": [
    {
     "name": "stdout",
     "output_type": "stream",
     "text": [
      "hello world\n"
     ]
    }
   ],
   "source": [
    "print(\"hello\",\"world\")"
   ]
  },
  {
   "cell_type": "code",
   "execution_count": 3,
   "id": "f5f0966b-08d6-458f-ad91-246664bbcd25",
   "metadata": {},
   "outputs": [
    {
     "name": "stdout",
     "output_type": "stream",
     "text": [
      "<class 'str'>\n"
     ]
    }
   ],
   "source": [
    "name=\"harsh\"\n",
    "print(type(name))"
   ]
  },
  {
   "cell_type": "code",
   "execution_count": 4,
   "id": "4965ebfb-b473-41c6-aa89-58e02eec7378",
   "metadata": {},
   "outputs": [
    {
     "name": "stdin",
     "output_type": "stream",
     "text": [
      "enter your name:  harshjd\n"
     ]
    },
    {
     "name": "stdout",
     "output_type": "stream",
     "text": [
      "welcome harshjd\n"
     ]
    }
   ],
   "source": [
    "name=input(\"enter your name: \")\n",
    "print(\"welcome\",name)"
   ]
  },
  {
   "cell_type": "code",
   "execution_count": 1,
   "id": "44d38f6e-15ba-452f-b761-f014cc58b768",
   "metadata": {},
   "outputs": [
    {
     "name": "stdin",
     "output_type": "stream",
     "text": [
      "Enter square sidee 22\n"
     ]
    },
    {
     "name": "stdout",
     "output_type": "stream",
     "text": [
      "484\n"
     ]
    }
   ],
   "source": [
    "side=int(input(\"Enter square sidee\"))\n",
    "area=side*side\n",
    "print(area)"
   ]
  },
  {
   "cell_type": "code",
   "execution_count": 9,
   "id": "d1604d41-cbcb-4e71-a136-093c851f2f76",
   "metadata": {},
   "outputs": [
    {
     "name": "stdout",
     "output_type": "stream",
     "text": [
      "['vipul', 56, 'riya', 78]\n",
      "['harsh', 56, 'riya', 78]\n"
     ]
    }
   ],
   "source": [
    "stu=[\"vipul\",56,\"riya\",78]\n",
    "print(stu)\n",
    "stu[0]=\"harsh\"\n",
    "print(stu)"
   ]
  },
  {
   "cell_type": "code",
   "execution_count": 10,
   "id": "137cbf4e-a7c4-4bde-a470-28b2aaf2147a",
   "metadata": {},
   "outputs": [
    {
     "name": "stdout",
     "output_type": "stream",
     "text": [
      "{'key': 'value', 'name': 'harsh'}\n"
     ]
    }
   ],
   "source": [
    "dict1={\"key\":\"value\",\"name\":\"harsh\"}\n",
    "print(dict1)"
   ]
  },
  {
   "cell_type": "code",
   "execution_count": 6,
   "id": "5485b1b9-3e8f-4ec0-a17c-276a185a2507",
   "metadata": {},
   "outputs": [
    {
     "name": "stdout",
     "output_type": "stream",
     "text": [
      "harsh 0\n",
      "harsh 1\n",
      "harsh 2\n",
      "harsh 3\n",
      "harsh 4\n"
     ]
    }
   ],
   "source": [
    "for i in range(0,5):\n",
    "    print(\"harsh\",i)"
   ]
  },
  {
   "cell_type": "code",
   "execution_count": 9,
   "id": "ddab6a96-c540-4c31-b076-04c2b0f54fd0",
   "metadata": {},
   "outputs": [
    {
     "name": "stdout",
     "output_type": "stream",
     "text": [
      "0\n",
      "2\n",
      "4\n",
      "6\n",
      "8\n"
     ]
    }
   ],
   "source": [
    "for i in range(0,10,2):\n",
    "    print(i)"
   ]
  },
  {
   "cell_type": "code",
   "execution_count": 10,
   "id": "28ead9d6-03ee-415a-a572-db874100d69f",
   "metadata": {},
   "outputs": [
    {
     "name": "stdout",
     "output_type": "stream",
     "text": [
      "1\n",
      "2\n",
      "3\n",
      "4\n",
      "5\n",
      "6\n",
      "7\n",
      "8\n",
      "9\n"
     ]
    }
   ],
   "source": [
    "for i in range(1,10,1):\n",
    "    print(i)"
   ]
  },
  {
   "cell_type": "code",
   "execution_count": 13,
   "id": "39dbb4f4-623c-416e-b5a9-b0b69b109fcf",
   "metadata": {},
   "outputs": [
    {
     "name": "stdin",
     "output_type": "stream",
     "text": [
      "enter a no 3\n"
     ]
    },
    {
     "name": "stdout",
     "output_type": "stream",
     "text": [
      "3\n",
      "6\n",
      "9\n",
      "12\n",
      "15\n",
      "18\n",
      "21\n",
      "24\n",
      "27\n",
      "30\n"
     ]
    }
   ],
   "source": [
    "n=int(input(\"enter a no\"))\n",
    "for i in range(1,11):\n",
    "    print(n*i)"
   ]
  },
  {
   "cell_type": "code",
   "execution_count": 15,
   "id": "42198825-4b91-45d2-99df-bae5818e4fe0",
   "metadata": {},
   "outputs": [
    {
     "name": "stdout",
     "output_type": "stream",
     "text": [
      "8\n"
     ]
    }
   ],
   "source": [
    "def sum(a,b):\n",
    "    sum=a+b\n",
    "    print(sum)\n",
    "sum(2,6)    "
   ]
  },
  {
   "cell_type": "code",
   "execution_count": 16,
   "id": "6ba43b76-79d2-4e61-ba19-6d5d0628eeeb",
   "metadata": {},
   "outputs": [
    {
     "name": "stdout",
     "output_type": "stream",
     "text": [
      "8.0\n"
     ]
    }
   ],
   "source": [
    "def avg(a,b,c):\n",
    "    avg=a+b+c/3\n",
    "    print(avg)\n",
    "avg(2,4,6)    "
   ]
  },
  {
   "cell_type": "code",
   "execution_count": 19,
   "id": "2eb31596-7a76-4384-a2dd-8e539be0f7dc",
   "metadata": {},
   "outputs": [
    {
     "name": "stdout",
     "output_type": "stream",
     "text": [
      "odd\n"
     ]
    }
   ],
   "source": [
    "def even_odd(num):\n",
    "    if(num%2==0):\n",
    "        print(\"even\")\n",
    "    else:\n",
    "        print(\"odd\")\n",
    "even_odd(3)        "
   ]
  },
  {
   "cell_type": "code",
   "execution_count": null,
   "id": "8df800bb-1d77-4d96-a994-8bed0caf16ba",
   "metadata": {},
   "outputs": [],
   "source": []
  }
 ],
 "metadata": {
  "kernelspec": {
   "display_name": "Python 3 (ipykernel)",
   "language": "python",
   "name": "python3"
  },
  "language_info": {
   "codemirror_mode": {
    "name": "ipython",
    "version": 3
   },
   "file_extension": ".py",
   "mimetype": "text/x-python",
   "name": "python",
   "nbconvert_exporter": "python",
   "pygments_lexer": "ipython3",
   "version": "3.12.8"
  }
 },
 "nbformat": 4,
 "nbformat_minor": 5
}
